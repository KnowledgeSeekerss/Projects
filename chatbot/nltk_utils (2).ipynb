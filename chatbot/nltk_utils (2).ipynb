{
 "cells": [
  {
   "cell_type": "code",
   "execution_count": 20,
   "id": "6cb0f480-60e5-4c20-a16d-36b94863e57c",
   "metadata": {},
   "outputs": [],
   "source": [
    "import nltk\n",
    "import torch\n",
    "import torch.nn as nn\n",
    "from torch.utils.data import Dataset,DataLoader\n",
    "import random\n",
    "import numpy as np\n",
    "from nltk.stem.porter import PorterStemmer\n",
    "stemmer = PorterStemmer()"
   ]
  },
  {
   "cell_type": "code",
   "execution_count": 21,
   "id": "af8b8e67-6ec3-4eca-947a-0feb68b8286d",
   "metadata": {},
   "outputs": [
    {
     "name": "stdout",
     "output_type": "stream",
     "text": [
      "[0. 1. 0. 0. 0. 1. 0.]\n"
     ]
    }
   ],
   "source": [
    "def tokenize(sentance):\n",
    "    return nltk.word_tokenize(sentance)\n",
    "\n",
    "def stem(word):\n",
    "    return stemmer.stem(word.lower())\n",
    "\n",
    "def bag_of_word(tokenized_sentance,all_words):\n",
    "    \"\"\"\n",
    "    sentance =[\"hello\",\"how\",\"are\",\"you\"]\n",
    "    words = [\"hi\",\"hello\",\"I\",\"thank\",\"cool\",\"you\",\"bye\"]\n",
    "    bow = [0,1,0,0,0,1,0]\n",
    "    \"\"\"\n",
    "\n",
    "    tokenized_sentance = [stem(w) for w in tokenized_sentance]\n",
    "    bag = np.zeros(len(all_words),dtype = np.float32)\n",
    "    for idx,w in enumerate(all_words):\n",
    "        if w in tokenized_sentance:\n",
    "            bag[idx]=1.0\n",
    "    return bag\n",
    "sentance =[\"hello\",\"how\",\"are\",\"you\"]\n",
    "words = [\"hi\",\"hello\",\"I\",\"thank\",\"cool\",\"you\",\"bye\"]\n",
    "bow = bag_of_word(sentance,words)\n",
    "print(bow)\n",
    "#words = [\"organizes\",\"organizer\",\"organize\"]\n",
    "#stemming = [stem(w) for w in words]\n",
    "#print(stemming)"
   ]
  },
  {
   "cell_type": "code",
   "execution_count": 13,
   "id": "55db820d-fae8-4f66-9d1a-b1ad13fd1033",
   "metadata": {},
   "outputs": [],
   "source": [
    "import json\n",
    "\n",
    "with open('intents.json','r') as f:\n",
    "    intents = json.load(f)\n",
    "all_words = []\n",
    "tags=[]\n",
    "xy =[]\n",
    "\n",
    "for intent in intents[\"intents\"]:\n",
    "    tag = intent[\"tag\"]\n",
    "    tags.append(tag)\n",
    "    for pattern in intent[\"patterns\"]:\n",
    "        w=tokenize(pattern)\n",
    "        all_words.extend(w)\n",
    "        xy.append((w,tag))\n",
    "ignore_words = ['?',',','!','.']\n",
    "all_words = [stem(w) for w in all_words if w not in ignore_words]\n",
    "all_words = sorted(set(all_words))\n",
    "tag=sorted(set(tags))\n",
    "\n",
    "x_train =[]\n",
    "y_train=[]\n",
    "for (pattern_sentance,tag) in xy:\n",
    "    bag = bag_of_word(pattern_sentance,all_words)\n",
    "    x_train.append(bag)\n",
    "\n",
    "    label = tags.index(tag)\n",
    "    y_train.append(label)\n",
    "x_train = np.array(x_train)\n",
    "y_train = np.array(y_train)\n",
    "\n",
    "class ChatDataset(Dataset):\n",
    "    def __init__(self):\n",
    "        self.n_samples = len(x_train)\n",
    "        self.x_data = x_train\n",
    "        self.y_data = y_train\n",
    "    def __getitem__(self,index):\n",
    "        return self.x_data[index],self.y_data[index]\n",
    "    def __len__(self):\n",
    "        return self.n_samples\n",
    "\n",
    "# Hyperparameters\n",
    "batch_size = 8\n",
    "hidden_size=8\n",
    "input_size=len(x_train[0])\n",
    "output_size=len(tags)\n",
    "dataset = ChatDataset()\n",
    "train_loader = DataLoader(dataset=dataset,batch_size = batch_size,shuffle=True,num_workers=0)\n",
    "epochs = 1000\n",
    "learning_rate = 0.001"
   ]
  },
  {
   "cell_type": "code",
   "execution_count": 23,
   "id": "2191c191-b0a4-4713-b9d0-432fe2db2303",
   "metadata": {},
   "outputs": [],
   "source": [
    "class NeuralNet(nn.Module):\n",
    "    def __init__(self,input_size,hidden_size,num_classes):\n",
    "        super(NeuralNet, self).__init__()\n",
    "        self.l1 = nn.Linear(input_size,hidden_size)\n",
    "        self.l2 = nn.Linear(hidden_size,hidden_size)\n",
    "        self.l3 = nn.Linear(hidden_size,num_classes)\n",
    "        self.relu=nn.ReLU()\n",
    "\n",
    "    def forward(self,x):\n",
    "        out = self.l1(x)\n",
    "        out = self.relu(out)\n",
    "        out = self.l2(out)\n",
    "        out = self.relu(out)\n",
    "        out = self.l3(out)\n",
    "        return out\n",
    "    \n",
    "        "
   ]
  },
  {
   "cell_type": "code",
   "execution_count": 24,
   "id": "5129e91b-6a03-4728-b035-d030edfd2516",
   "metadata": {},
   "outputs": [
    {
     "name": "stdout",
     "output_type": "stream",
     "text": [
      "49 49\n",
      "6 ['greeting', 'goodbye', 'thanks', 'items', 'payments', 'Delivery']\n"
     ]
    }
   ],
   "source": [
    "# training data\n",
    "model = NeuralNet(input_size,hidden_size,output_size)\n",
    "print(input_size,len(all_words))\n",
    "print(output_size,tags)"
   ]
  },
  {
   "cell_type": "code",
   "execution_count": 25,
   "id": "bcb078be-f6e6-42e2-9d1c-266b7545c3e8",
   "metadata": {},
   "outputs": [
    {
     "name": "stdout",
     "output_type": "stream",
     "text": [
      "epoch100/1000,loss = 1.3066\n",
      "epoch200/1000,loss = 0.3280\n",
      "epoch300/1000,loss = 0.0416\n",
      "epoch400/1000,loss = 0.0248\n",
      "epoch500/1000,loss = 0.0051\n",
      "epoch600/1000,loss = 0.0028\n",
      "epoch700/1000,loss = 0.0028\n",
      "epoch800/1000,loss = 0.0018\n",
      "epoch900/1000,loss = 0.0009\n",
      "epoch1000/1000,loss = 0.0011\n",
      "Final_Loss,loss=0.0011\n"
     ]
    }
   ],
   "source": [
    "device = torch.device('cuda' if torch.cuda.is_available() else 'cpu')\n",
    "model = NeuralNet(input_size,hidden_size,output_size).to(device)\n",
    "# calculating loss and optimizer\n",
    "criterion = nn.CrossEntropyLoss()\n",
    "optimizer = torch.optim.Adam(model.parameters(),lr=learning_rate)\n",
    "\n",
    "\n",
    "for epoch in range(epochs):\n",
    "    for(words,labels) in train_loader:\n",
    "        words = words.to(device)\n",
    "        labels = labels.to(dtype=torch.long).to(device)\n",
    "\n",
    "        # Call the forward pass\n",
    "        outputs = model(words)\n",
    "        loss = criterion(outputs,labels)\n",
    "\n",
    "        optimizer.zero_grad()\n",
    "        loss.backward()\n",
    "        optimizer.step()\n",
    "    if (epoch + 1)%100 == 0:\n",
    "        print(f'epoch{epoch+1}/{epochs},loss = {loss.item():.4f}')\n",
    "print(f'Final_Loss,loss={loss.item():.4f}')\n"
   ]
  },
  {
   "cell_type": "code",
   "execution_count": 26,
   "id": "da6d41e3-1ae9-41e2-9b71-fb61bd31c40d",
   "metadata": {},
   "outputs": [],
   "source": [
    "# create dictionary\n",
    "\n",
    "data = {\n",
    "    \"model_state\" : model.state_dict(),\n",
    "    \"input_size\" : input_size,\n",
    "    \"output_size\":output_size,\n",
    "    \"hidden_size\":hidden_size,\n",
    "    \"all_words\":all_words,\n",
    "    \"tags\":tags\n",
    "}\n",
    "FILE = \"data.pth\"\n",
    "torch.save(data,FILE)\n",
    "\n",
    "print(f'training complete. file saved to {FILE}')\n"
   ]
  },
  {
   "cell_type": "code",
   "execution_count": 27,
   "id": "f2f2f684-4bb5-42c9-83f7-6af6019c3315",
   "metadata": {},
   "outputs": [
    {
     "name": "stderr",
     "output_type": "stream",
     "text": [
      "C:\\Users\\naguh\\AppData\\Local\\Temp\\ipykernel_17228\\632071722.py:5: FutureWarning: You are using `torch.load` with `weights_only=False` (the current default value), which uses the default pickle module implicitly. It is possible to construct malicious pickle data which will execute arbitrary code during unpickling (See https://github.com/pytorch/pytorch/blob/main/SECURITY.md#untrusted-models for more details). In a future release, the default value for `weights_only` will be flipped to `True`. This limits the functions that could be executed during unpickling. Arbitrary objects will no longer be allowed to be loaded via this mode unless they are explicitly allowlisted by the user via `torch.serialization.add_safe_globals`. We recommend you start setting `weights_only=True` for any use case where you don't have full control of the loaded file. Please open an issue on GitHub for any issues related to this experimental feature.\n",
      "  data = torch.load(FILE)\n"
     ]
    },
    {
     "data": {
      "text/plain": [
       "NeuralNet(\n",
       "  (l1): Linear(in_features=49, out_features=8, bias=True)\n",
       "  (l2): Linear(in_features=8, out_features=8, bias=True)\n",
       "  (l3): Linear(in_features=8, out_features=6, bias=True)\n",
       "  (relu): ReLU()\n",
       ")"
      ]
     },
     "execution_count": 27,
     "metadata": {},
     "output_type": "execute_result"
    }
   ],
   "source": [
    "device = torch.device('cuda' if torch.cuda.is_available() else 'cpu')\n",
    "with open('intents.json','r') as f:\n",
    "    intents = json.load(f)\n",
    "FILE = \"data.pth\"\n",
    "data = torch.load(FILE)\n",
    "input_size = data[\"input_size\"]\n",
    "hidden_size = data[\"hidden_size\"]\n",
    "output_size = data[\"output_size\"]\n",
    "all_words = data[\"all_words\"]\n",
    "tags = data[\"tags\"]\n",
    "model_state=data[\"model_state\"]\n",
    "model = NeuralNet(input_size,hidden_size,output_size).to(device)\n",
    "model.load_state_dict(model_state)\n",
    "\n",
    "model.eval()"
   ]
  },
  {
   "cell_type": "code",
   "execution_count": 2,
   "id": "a6ec418d-cebe-48ad-8aa3-540a73ccc20b",
   "metadata": {},
   "outputs": [],
   "source": [
    "bot = \"sam\"\n",
    "def get_response(msg):\n",
    "    sentance = tokenize(sentance)\n",
    "    X = bag_of_word(sentance,all_words)\n",
    "    X = X.reshape(1,X.shape[0])\n",
    "    X=torch.from_numpy(X).to(device)\n",
    "\n",
    "    output = model(X)\n",
    "    _,predicted = torch.max(output,dim=1)\n",
    "    tag = tags[predicted.item()]\n",
    "    probs = torch.softmax(output, dim=1)\n",
    "    prob = probs[0][predicted.item()]\n",
    "    if prob.item() > 0.75:\n",
    "        for intent in intents['intents']:\n",
    "            if tag == intent[\"tag\"]:\n",
    "                return random.choice(intent['responses'])\n",
    "    else:\n",
    "        return \"I do not understand...\"\n",
    "    \n",
    "\n",
    "    "
   ]
  },
  {
   "cell_type": "code",
   "execution_count": 49,
   "id": "5dc75d1b-8740-49d4-8a89-c198b7cfbbc2",
   "metadata": {
    "scrolled": true
   },
   "outputs": [],
   "source": [
    "# GUI Implementation\n",
    "from tkinter import *\n",
    "BG_GRAY = \"#ABB2B9\"\n",
    "BG_COLOR = \"#17202A\"\n",
    "TEXT_COLOR=\"#EAECEE\"\n",
    "FONT = (\"Times New Roman\",12)\n",
    "FONT_BOLD =(\"Times New Roman \",12,\"bold\")\n",
    "\n",
    "class application:\n",
    "\n",
    "    def __init__(self):\n",
    "        self.window = Tk()\n",
    "        self._setup_main_window()\n",
    "    def run(self):\n",
    "        self.window.mainloop()\n",
    "    def _setup_main_window(self):\n",
    "        self.window.title(\"Chat\")\n",
    "        self.window.resizable(width=False,height = False)\n",
    "        self.window.configure(width = 470,height = 550,bg=BG_COLOR)\n",
    "        # naming head Label\n",
    "        head_label = Label(self.window,bg = BG_COLOR,fg = TEXT_COLOR,text = \"Welcome to chatbot\",font = FONT_BOLD,pady = 10)\n",
    "        head_label.place(relwidth=1)\n",
    "\n",
    "        line = Label(self.window,width = 450,bg = BG_GRAY)\n",
    "        line.place(relwidth=1,rely=0.07,relheight=0.012)\n",
    "\n",
    "        self.text_widget = Text(self.window,width = 20,height = 2,bg = BG_COLOR,fg = TEXT_COLOR,font = FONT,padx = 5,pady = 5)\n",
    "        self.text_widget.place(relheight = 0.745,relwidth = 1,rely = 0.08)\n",
    "        self.text_widget.configure(cursor=\"arrow\",state=DISABLED)\n",
    "        \n",
    "        \n",
    "if __name__ == \"__main__\":\n",
    "    app = application()\n",
    "    app.run()\n",
    "        \n",
    "        "
   ]
  },
  {
   "cell_type": "code",
   "execution_count": null,
   "id": "a823bf03-45a4-44c3-914d-89170b13ccc6",
   "metadata": {},
   "outputs": [],
   "source": []
  }
 ],
 "metadata": {
  "kernelspec": {
   "display_name": "torch_kernel",
   "language": "python",
   "name": "torch_kernel"
  },
  "language_info": {
   "codemirror_mode": {
    "name": "ipython",
    "version": 3
   },
   "file_extension": ".py",
   "mimetype": "text/x-python",
   "name": "python",
   "nbconvert_exporter": "python",
   "pygments_lexer": "ipython3",
   "version": "3.12.7"
  }
 },
 "nbformat": 4,
 "nbformat_minor": 5
}
